{
  "nbformat": 4,
  "nbformat_minor": 0,
  "metadata": {
    "colab": {
      "name": "PopSets.ipynb",
      "provenance": [],
      "authorship_tag": "ABX9TyOyZORB8OlnhqkftEu+tXQM",
      "include_colab_link": true
    },
    "kernelspec": {
      "name": "python3",
      "display_name": "Python 3"
    },
    "language_info": {
      "name": "python"
    }
  },
  "cells": [
    {
      "cell_type": "markdown",
      "metadata": {
        "id": "view-in-github",
        "colab_type": "text"
      },
      "source": [
        "<a href=\"https://colab.research.google.com/github/RiditaNizam/PopSets/blob/main/PopSets.ipynb\" target=\"_parent\"><img src=\"https://colab.research.google.com/assets/colab-badge.svg\" alt=\"Open In Colab\"/></a>"
      ]
    },
    {
      "cell_type": "code",
      "metadata": {
        "colab": {
          "base_uri": "https://localhost:8080/"
        },
        "id": "pkxVzFI6gkan",
        "outputId": "1f32c65b-c760-4feb-9ba7-77de8eb26d4d"
      },
      "source": [
        "def take_off(numbers):\n",
        "  print(\"Before popping off a number: \", numbers)\n",
        "  numbers.pop()\n",
        "  print(\"After popping off a number: \", numbers)\n",
        "\n",
        "numbers = set([10, 20, 30, 40, 50])\n",
        "\n",
        "take_off(numbers)"
      ],
      "execution_count": 8,
      "outputs": [
        {
          "output_type": "stream",
          "text": [
            "Before popping off a number:  {40, 10, 50, 20, 30}\n",
            "After popping off a number:  {10, 50, 20, 30}\n"
          ],
          "name": "stdout"
        }
      ]
    }
  ]
}